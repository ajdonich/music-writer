{
 "cells": [
  {
   "cell_type": "code",
   "execution_count": null,
   "metadata": {},
   "outputs": [],
   "source": [
    "# Must force reloads of .py files when dev'ing/changing\n",
    "# either of files abstractfactory.py and musicfactory.py\n",
    "# Get rid of this cell import once .py files stablize\n",
    "import importlib, abstractfactory\n",
    "importlib.reload(abstractfactory)\n",
    "\n",
    "import musicfactory\n",
    "importlib.reload(musicfactory)"
   ]
  },
  {
   "cell_type": "code",
   "execution_count": null,
   "metadata": {},
   "outputs": [],
   "source": [
    "from mwriter.musicfactory import MusicFactory\n",
    "from mwriter.abstractfactory import MLDataSet\n",
    "\n",
    "# Initialize a faux singleton for the Notebook\n",
    "FACTORY = MusicFactory()\n",
    "\n",
    "# Store of MLDataSet\n",
    "datasets = {}"
   ]
  },
  {
   "cell_type": "code",
   "execution_count": null,
   "metadata": {},
   "outputs": [],
   "source": [
    "# Generate training and validation input datasets\n",
    "\n",
    "input_files_train = ['../data/audio/88_Key_Ascending_Chromatic_Scale.wav',\n",
    "                     '../data/midi_cleaned/88_Key_Ascending_Chromatic_Scale.mid']\n",
    "\n",
    "input_files_val = ['../data/audio/88_Key_Descending_Chromatic_Scale.wav',\n",
    "                   '../data/midi_cleaned/88_Key_Descending_Chromatic_Scale.mid']\n",
    "\n",
    "XY_train = FACTORY.create_dataset('train_nfreq_1', input_files_train)\n",
    "XY_val = FACTORY.create_dataset('validate_nfreq_1', input_files_val)"
   ]
  },
  {
   "cell_type": "code",
   "execution_count": null,
   "metadata": {},
   "outputs": [],
   "source": []
  },
  {
   "cell_type": "code",
   "execution_count": null,
   "metadata": {},
   "outputs": [],
   "source": []
  }
 ],
 "metadata": {
  "kernelspec": {
   "display_name": "Python 3",
   "language": "python",
   "name": "python3"
  },
  "language_info": {
   "codemirror_mode": {
    "name": "ipython",
    "version": 3
   },
   "file_extension": ".py",
   "mimetype": "text/x-python",
   "name": "python",
   "nbconvert_exporter": "python",
   "pygments_lexer": "ipython3",
   "version": "3.7.2"
  }
 },
 "nbformat": 4,
 "nbformat_minor": 4
}
