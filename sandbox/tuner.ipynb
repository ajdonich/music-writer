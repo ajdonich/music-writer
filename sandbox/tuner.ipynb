{
 "cells": [
  {
   "cell_type": "code",
   "execution_count": null,
   "metadata": {},
   "outputs": [],
   "source": [
    "import numpy as np\n",
    "from scipy.io import wavfile\n",
    "from scipy.signal import resample\n",
    "import matplotlib.pyplot as plt\n",
    "\n",
    "import warnings\n",
    "warnings.filterwarnings(\"ignore\") # To supress WavFileWarning: Chunk (non-data) not understood, skipping it."
   ]
  },
  {
   "cell_type": "code",
   "execution_count": null,
   "metadata": {},
   "outputs": [],
   "source": [
    "rate, data = wavfile.read('../data/audio/88_Key_Ascending_Chromatic_Scale.wav')\n",
    "\n",
    "# Downsample from 41000 to dsamp_rate\n",
    "dsamp_rate = 10250\n",
    "dsamp_data = resample(data[:,0], int((dsamp_rate/rate) * data.shape[0]))\n",
    "\n",
    "x = np.linspace(0, 90, data[:,0].shape[0], endpoint=False)\n",
    "xnew = np.linspace(0, 90, dsamp_data.shape[0], endpoint=False)\n",
    "\n",
    "print(x.shape)\n",
    "print(xnew.shape)\n",
    "print(data[:,0].shape)\n",
    "print(dsamp_data.shape)\n",
    "\n",
    "#plt.plot(x, data[:,0], 'go-', xnew, dsamp_data, '.-', data.shape[0], data[0,0], 'ro')\n",
    "#plt.legend(['data', 'resampled'], loc='best')\n",
    "plt.figure(1)\n",
    "plt.plot(data[:,0])\n",
    "plt.figure(2)\n",
    "plt.plot(dsamp_data)\n",
    "plt.show()\n",
    "\n",
    "print(data.shape)\n",
    "print(data[:,0].shape)"
   ]
  },
  {
   "cell_type": "code",
   "execution_count": null,
   "metadata": {},
   "outputs": [],
   "source": [
    "######################################################################\n",
    "# Keep FRAME_SIZE and FRAMES_PER_FFT to be powers of two.\n",
    "\n",
    "NOTE_MIN = 21          # A0\n",
    "NOTE_MAX = 108         # C8\n",
    "FSAMP = rate           # Sampling frequency in Hz\n",
    "FRAME_SIZE = 2097152   # Number of samples per frame\n",
    "FRAMES_PER_FFT = 2     # Number of frames FFT average across (set to an overlap of 2:1)\n",
    "\n",
    "######################################################################\n",
    "# Note: as SAMPLES_PER_FFT goes up, the frequency step size decreases\n",
    "# (resolution increases), however, it will incur more processing delay.\n",
    "\n",
    "SAMPLES_PER_FFT = FRAME_SIZE*FRAMES_PER_FFT\n",
    "FREQ_STEP = float(FSAMP)/SAMPLES_PER_FFT\n",
    "\n",
    "######################################################################\n",
    "\n",
    "NOTE_NAMES = 'C C# D D# E F F# G G# A A# B'.split()\n",
    "\n",
    "print(SAMPLES_PER_FFT)\n",
    "print(FRAME_SIZE)\n",
    "print(\"FFT resolution:\", FREQ_STEP, \"Hz\")\n",
    "print(\"FFT \\'window\\':\", (1.0/FREQ_STEP)/1000.0, \"ms\")\n",
    "print(\"Frames per second: \", float(FSAMP)/FRAME_SIZE)\n",
    "print(float(FSAMP)/2)\n",
    "\n",
    "print(\"Power\", np.power(2, 21))\n",
    "\n",
    "# Want SAMPLES_PER_FFT = (FSAMP * 1000.0) * 128.0, thus\n",
    "# (FRAME_SIZE * FRAMES_PER_FFT) = (FSAMP * 1000.0) * 128.0\n",
    "print(SAMPLES_PER_FFT)\n",
    "print((FSAMP * 1000.0) * 128.0)\n"
   ]
  },
  {
   "cell_type": "code",
   "execution_count": null,
   "metadata": {},
   "outputs": [],
   "source": [
    "######################################################################\n",
    "# These three functions are based upon this very useful webpage:\n",
    "# https://newt.phys.unsw.edu.au/jw/notes.html\n",
    "\n",
    "def freq_to_number(f): return 69 + 12*np.log2(f/440.0)\n",
    "def number_to_freq(n): return 440 * 2.0**((n-69)/12.0)\n",
    "def note_name(n): return NOTE_NAMES[n % 12] + str(n/12 - 1)\n"
   ]
  },
  {
   "cell_type": "code",
   "execution_count": null,
   "metadata": {},
   "outputs": [],
   "source": [
    "%%time\n",
    "\n",
    "# Get min/max FFT index for notes NOTE_MIN to NOTE_MAX. See numpy.rfftfreq()\n",
    "def note_to_fftbin(n): return number_to_freq(n)/FREQ_STEP\n",
    "imin = max(0, int(np.floor(note_to_fftbin(NOTE_MIN-1))))\n",
    "imax = min(SAMPLES_PER_FFT, int(np.ceil(note_to_fftbin(NOTE_MAX+1))))\n",
    "\n",
    "# Create Hanning window function\n",
    "window = 0.5 * (1 - np.cos(np.linspace(0, 2*np.pi, SAMPLES_PER_FFT, False)))\n",
    "\n",
    "print('sampling at', FSAMP, 'Hz with max resolution of', FREQ_STEP, 'Hz\\n')\n",
    "\n",
    "last_note = ''\n",
    "num_frames = 0\n",
    "fft_buffer = np.zeros(SAMPLES_PER_FFT, dtype=np.float32)\n",
    "for fstep in range(0, data.shape[0], FRAME_SIZE):\n",
    "#for fstep in range(0, dsamp_data.shape[0], FRAME_SIZE):\n",
    "    \n",
    "    # Shift the buffer down and new data in\n",
    "    fft_buffer[:-FRAME_SIZE] = fft_buffer[FRAME_SIZE:]\n",
    "    fft_buffer[-FRAME_SIZE:] = data[fstep:(FRAME_SIZE + fstep), 0]\n",
    "    #fft_buffer[-FRAME_SIZE:] = dsamp_data[fstep:(FRAME_SIZE + fstep)]\n",
    "\n",
    "    # Run the FFT on the windowed buffer\n",
    "    fft = np.fft.rfft(fft_buffer * window)\n",
    "\n",
    "    # Get frequency of maximum response in range\n",
    "    freq = (np.abs(fft[imin:imax]).argmax() + imin) * FREQ_STEP\n",
    "\n",
    "    # Get note number and nearest note\n",
    "    n = freq_to_number(freq)\n",
    "    n0 = int(round(n))\n",
    "\n",
    "    # Console output once we have a full buffer\n",
    "    num_frames += 1\n",
    "\n",
    "    if (num_frames >= FRAMES_PER_FFT) and (note_name(n0) != last_note):\n",
    "        print('freq: {:7.2f} Hz     note: {:>3s} {:+.2f}'.format(freq, note_name(n0), n-n0))\n",
    "        last_note = note_name(n0)"
   ]
  },
  {
   "cell_type": "code",
   "execution_count": null,
   "metadata": {},
   "outputs": [],
   "source": []
  },
  {
   "cell_type": "code",
   "execution_count": null,
   "metadata": {},
   "outputs": [],
   "source": []
  }
 ],
 "metadata": {
  "kernelspec": {
   "display_name": "Python 3",
   "language": "python",
   "name": "python3"
  },
  "language_info": {
   "codemirror_mode": {
    "name": "ipython",
    "version": 3
   },
   "file_extension": ".py",
   "mimetype": "text/x-python",
   "name": "python",
   "nbconvert_exporter": "python",
   "pygments_lexer": "ipython3",
   "version": "3.7.2"
  }
 },
 "nbformat": 4,
 "nbformat_minor": 4
}
