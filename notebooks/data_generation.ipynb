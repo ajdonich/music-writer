{
 "cells": [
  {
   "cell_type": "code",
   "execution_count": null,
   "metadata": {},
   "outputs": [],
   "source": [
    "import sys\n",
    "\n",
    "# This for managing relative imports from nb\n",
    "if '..' not in sys.path: sys.path.append('..')\n",
    "\n",
    "import mido\n",
    "from mwriter.midiprocess import play_midi_file\n",
    "from mwriter.midiprocess import summarize_midi_file, simplify_midi_file\n",
    "from mwriter.midiprocess import create_ascending_chromatic, create_descending_chromatic"
   ]
  },
  {
   "cell_type": "code",
   "execution_count": null,
   "metadata": {},
   "outputs": [],
   "source": [
    "# Creates the chromatic scale MIDI files:\n",
    "#   88_Key_Ascending_Chromatic_Scale.mid\n",
    "#   88_Key_Descending_Chromatic_Scale.mid\n",
    "\n",
    "create_ascending_chromatic()\n",
    "create_descending_chromatic()\n",
    "\n",
    "summarize_midi_file('../data/midi_cleaned/88_Key_Ascending_Chromatic_Scale.mid')\n",
    "summarize_midi_file('../data/midi_cleaned/88_Key_Descending_Chromatic_Scale.mid')\n"
   ]
  },
  {
   "cell_type": "code",
   "execution_count": null,
   "metadata": {},
   "outputs": [],
   "source": [
    "# Creates simplified, single-track MIDI files that contain only 'note_on',\n",
    "# 'control_change' (with control == 64, i.e. sustain peddle), and 'end_of_track'.\n",
    "\n",
    "summarize_midi_file('../data/midi_originals/Cry_me_a_river.mid')\n",
    "simplify_midi_file('../data/midi_originals/Cry_me_a_river.mid', 0)\n",
    "summarize_midi_file('../data/midi_cleaned/Cry_me_a_river_simple.mid')\n",
    "\n",
    "summarize_midi_file('../data/midi_originals/A_fine_romance.mid')\n",
    "simplify_midi_file('../data/midi_originals/A_fine_romance.mid', 1)\n",
    "summarize_midi_file('../data/midi_cleaned/A_fine_romance_simple.mid')\n",
    "\n",
    "summarize_midi_file('../data/midi_originals/A_ghost_of_a_chance.mid')\n",
    "simplify_midi_file('../data/midi_originals/A_ghost_of_a_chance.mid', 2)\n",
    "summarize_midi_file('../data/midi_cleaned/A_ghost_of_a_chance_simple.mid')\n",
    "\n",
    "summarize_midi_file('../data/midi_originals/Cinema_paradiso.mid')\n",
    "simplify_midi_file('../data/midi_originals/Cinema_paradiso.mid', 1)\n",
    "summarize_midi_file('../data/midi_cleaned/Cinema_paradiso_simple.mid')"
   ]
  },
  {
   "cell_type": "code",
   "execution_count": null,
   "metadata": {},
   "outputs": [],
   "source": [
    "# This just tests the MIDI playback function. Note, this will not play from speakers \n",
    "# unless an output port is appropriately registered and a DAW (e.g. open GarageBand) is \n",
    "# open to receive messages, translate them to an audio signal and relay them to speakers \n",
    "\n",
    "print(\"Available output ports:\", mido.get_output_names())\n",
    "play_midi_file('../data/midi_originals/88_Key_Ascending_Chromatic_Scale.mid', mido.get_output_names()[0])\n",
    "#play_midi_file('../data/midi_originals/Cinema_paradiso.mid', mido.get_output_names()[0], display_messages=False)"
   ]
  },
  {
   "cell_type": "code",
   "execution_count": null,
   "metadata": {},
   "outputs": [],
   "source": []
  }
 ],
 "metadata": {
  "kernelspec": {
   "display_name": "Python 3",
   "language": "python",
   "name": "python3"
  },
  "language_info": {
   "codemirror_mode": {
    "name": "ipython",
    "version": 3
   },
   "file_extension": ".py",
   "mimetype": "text/x-python",
   "name": "python",
   "nbconvert_exporter": "python",
   "pygments_lexer": "ipython3",
   "version": "3.7.2"
  }
 },
 "nbformat": 4,
 "nbformat_minor": 4
}
